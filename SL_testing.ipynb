{
 "cells": [
  {
   "cell_type": "code",
   "execution_count": 12,
   "metadata": {},
   "outputs": [
    {
     "name": "stdout",
     "output_type": "stream",
     "text": [
      "32.4\n",
      "end time is:  2023-06-14 00:07:36.883810\n",
      "deque(['Nightsong', 'S23', 'S24', 'S20', 'S17', 'Summerhall', 'S13', 'S14', 'Bronzegate'])\n"
     ]
    }
   ],
   "source": [
    "import dijkstra_methods as dm\n",
    "from datetime import datetime\n",
    "from datetime import timedelta\n",
    "import time\n",
    "\n",
    "def sl_movement(speed,start,end,sdatetime=\"now\"):\n",
    "    #give move speed as if a fast day \n",
    "    #default to current time\n",
    "    if sdatetime == 'now':\n",
    "        sdatetime=datetime.now()\n",
    "    #time formatted as 'MM/DD/YYYY HH:MM:SS'\n",
    "    #hardcode map in\n",
    "    graph = dm.Graph('stormlands_node_map.txt')\n",
    "    path,distance = graph.shortest_path(start,end)\n",
    "    #calculate time based on whether you start in fast or slow day\n",
    "    delta=12*distance/speed\n",
    "    print(delta)\n",
    "    end_time = sdatetime+timedelta(hours=delta)\n",
    "    print('end time is: ',str(end_time))\n",
    "    print(path)\n",
    "    return path,end_time\n",
    "    \n",
    "    \n",
    "p,e = sl_movement(10,'Nightsong','Bronzegate')"
   ]
  },
  {
   "cell_type": "code",
   "execution_count": 6,
   "metadata": {},
   "outputs": [
    {
     "name": "stdout",
     "output_type": "stream",
     "text": [
      "37.2\n",
      "end time is:  2023-06-14 04:46:13.011836\n",
      "deque(['Bronzegate', 'S14', 'S13', 'S16', 'HarvestHall', 'S20', 'S24', 'S23', 'Nightsong'])\n"
     ]
    }
   ],
   "source": [
    "sl_movement(10,'Bronzegate',\"Nightsong\")"
   ]
  }
 ],
 "metadata": {
  "kernelspec": {
   "display_name": "Python 3",
   "language": "python",
   "name": "python3"
  },
  "language_info": {
   "codemirror_mode": {
    "name": "ipython",
    "version": 3
   },
   "file_extension": ".py",
   "mimetype": "text/x-python",
   "name": "python",
   "nbconvert_exporter": "python",
   "pygments_lexer": "ipython3",
   "version": "3.8.10"
  }
 },
 "nbformat": 4,
 "nbformat_minor": 4
}
