{
 "cells": [
  {
   "cell_type": "code",
   "execution_count": 1,
   "metadata": {},
   "outputs": [
    {
     "name": "stdout",
     "output_type": "stream",
     "text": [
      "48.0\n",
      "end time is:  2023-06-15 23:14:38.382092\n",
      "['N69', 'N71', 'N74', 'HagsMire', 'TheTwins', 'RL8', 'RL10', 'RL13', 'RL19', 'RL24', 'RL30', 'LHT', 'Harrenhal', 'RL40', 'SowsHorn', 'C10', 'C13', 'KingsLanding', 'C14', 'C26', 'R23', 'R32', 'R31', 'Bitterbridge', 'R29', 'R39', 'NewBarrel', 'R46', 'Highgarden', 'R49', 'R55', 'R54', 'R59', 'Honeyholt', 'R65', 'R69']\n"
     ]
    }
   ],
   "source": [
    "import dijkstra_methods as dm\n",
    "from datetime import datetime\n",
    "from datetime import timedelta\n",
    "import time\n",
    "\n",
    "def sl_movement(speed,start,end,sdatetime=\"now\"):\n",
    "    #give move speed as if a fast day \n",
    "    #default to current time\n",
    "    if sdatetime == 'now':\n",
    "        sdatetime=datetime.now()\n",
    "    #time formatted as 'MM/DD/YYYY HH:MM:SS'\n",
    "    #hardcode map in\n",
    "    graph = dm.Graph('main_nodemap.txt')\n",
    "    path,distance = graph.shortest_path(start,end)\n",
    "    #calculate time based on whether you start in fast or slow day\n",
    "    delta=12*distance/speed\n",
    "    print(delta)\n",
    "    end_time = sdatetime+timedelta(hours=delta)\n",
    "    print('end time is: ',str(end_time))\n",
    "    print(list(path))\n",
    "    return path,end_time\n",
    "    \n",
    "    \n",
    "p,e = sl_movement(10,'N69','R69')"
   ]
  },
  {
   "cell_type": "code",
   "execution_count": 6,
   "metadata": {},
   "outputs": [
    {
     "name": "stdout",
     "output_type": "stream",
     "text": [
      "Total hours of travel is  86.4\n",
      "end time is:  2023-06-19 08:35\n",
      "['KingsLanding', 'C14', 'C26', 'R23', 'R32', 'R31', 'Bitterbridge', 'R29', 'R39', 'NewBarrel', 'R46', 'Highgarden', 'R49', 'R55', 'R54', 'R59', 'Honeyholt', 'R65', 'Oldtown']\n"
     ]
    }
   ],
   "source": [
    "from land_frontend import movement\n",
    "p,e,t = movement(10,'KingsLanding','Oldtown')"
   ]
  },
  {
   "cell_type": "code",
   "execution_count": 3,
   "metadata": {},
   "outputs": [
    {
     "name": "stdout",
     "output_type": "stream",
     "text": [
      "Land Movement Calculater, v1.1 Constantinople\n"
     ]
    },
    {
     "name": "stdin",
     "output_type": "stream",
     "text": [
      "Enter movement speed of the party  10\n"
     ]
    },
    {
     "name": "stdout",
     "output_type": "stream",
     "text": [
      "When inputting remove apostrophes and spaces.\n",
      "I.E. Wayfarer's Rest becomes WayfarersRest\n"
     ]
    },
    {
     "name": "stdin",
     "output_type": "stream",
     "text": [
      "Enter starting province  Feastfires\n",
      "Enter ending province  Gulltown\n",
      "Use optimal Route? y/n n\n",
      "Input provinces to avoid as a comma separates list LHT\n",
      "Enter time in DD/MM/YY HH:MM:SS format or enter 'now' to use current time  now\n"
     ]
    },
    {
     "name": "stdout",
     "output_type": "stream",
     "text": [
      "------------------------------------------------------------------\n",
      "Total hours of travel is  177.6\n",
      "end time is:  2023-06-23 03:30\n",
      "['Feastfires', 'W11', 'W12', 'W13', 'W16', 'Sarsfield', 'W14', 'GoldenTooth', 'RL33', 'WayfarersRest', 'RL27', 'Riverrun', 'Honeytree', 'Mudgrave', 'RaventreeHall', 'Fairmarket', 'Oldstones', 'Seagard', 'TheTwins', 'RL8', 'RL10', 'RL13', 'RL19', 'RL24', 'RL25', 'V29', 'V34', 'V35', 'V36', 'GreyGlen', 'V37', 'Gulltown']\n",
      "------------------------------------------------------------------\n"
     ]
    },
    {
     "name": "stdin",
     "output_type": "stream",
     "text": [
      "Calculate another move order? y/n  n\n"
     ]
    },
    {
     "name": "stdout",
     "output_type": "stream",
     "text": [
      "Exiting Program\n"
     ]
    }
   ],
   "source": [
    "from land_frontend import land_frontend\n",
    "land_frontend()"
   ]
  },
  {
   "cell_type": "code",
   "execution_count": 4,
   "metadata": {},
   "outputs": [
    {
     "ename": "ModuleNotFoundError",
     "evalue": "No module named 'pytesseract'",
     "output_type": "error",
     "traceback": [
      "\u001b[0;31m---------------------------------------------------------------------------\u001b[0m",
      "\u001b[0;31mModuleNotFoundError\u001b[0m                       Traceback (most recent call last)",
      "\u001b[0;32m/tmp/ipykernel_1686/2868641647.py\u001b[0m in \u001b[0;36m<module>\u001b[0;34m\u001b[0m\n\u001b[0;32m----> 1\u001b[0;31m \u001b[0;32mimport\u001b[0m \u001b[0mpytesseract\u001b[0m\u001b[0;34m\u001b[0m\u001b[0;34m\u001b[0m\u001b[0m\n\u001b[0m\u001b[1;32m      2\u001b[0m \u001b[0mprint\u001b[0m\u001b[0;34m(\u001b[0m\u001b[0;34m'done'\u001b[0m\u001b[0;34m)\u001b[0m\u001b[0;34m\u001b[0m\u001b[0;34m\u001b[0m\u001b[0m\n",
      "\u001b[0;31mModuleNotFoundError\u001b[0m: No module named 'pytesseract'"
     ]
    }
   ],
   "source": [
    "import pytesseract\n",
    "print('done')"
   ]
  }
 ],
 "metadata": {
  "kernelspec": {
   "display_name": "Python 3 (ipykernel)",
   "language": "python",
   "name": "python3"
  },
  "language_info": {
   "codemirror_mode": {
    "name": "ipython",
    "version": 3
   },
   "file_extension": ".py",
   "mimetype": "text/x-python",
   "name": "python",
   "nbconvert_exporter": "python",
   "pygments_lexer": "ipython3",
   "version": "3.8.10"
  }
 },
 "nbformat": 4,
 "nbformat_minor": 4
}
