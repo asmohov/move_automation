{
 "cells": [
  {
   "cell_type": "code",
   "execution_count": 1,
   "metadata": {},
   "outputs": [
    {
     "name": "stdout",
     "output_type": "stream",
     "text": [
      "48.0\n",
      "end time is:  2023-06-15 23:14:38.382092\n",
      "['N69', 'N71', 'N74', 'HagsMire', 'TheTwins', 'RL8', 'RL10', 'RL13', 'RL19', 'RL24', 'RL30', 'LHT', 'Harrenhal', 'RL40', 'SowsHorn', 'C10', 'C13', 'KingsLanding', 'C14', 'C26', 'R23', 'R32', 'R31', 'Bitterbridge', 'R29', 'R39', 'NewBarrel', 'R46', 'Highgarden', 'R49', 'R55', 'R54', 'R59', 'Honeyholt', 'R65', 'R69']\n"
     ]
    }
   ],
   "source": [
    "import dijkstra_methods as dm\n",
    "from datetime import datetime\n",
    "from datetime import timedelta\n",
    "import time\n",
    "\n",
    "def sl_movement(speed,start,end,sdatetime=\"now\"):\n",
    "    #give move speed as if a fast day \n",
    "    #default to current time\n",
    "    if sdatetime == 'now':\n",
    "        sdatetime=datetime.now()\n",
    "    #time formatted as 'MM/DD/YYYY HH:MM:SS'\n",
    "    #hardcode map in\n",
    "    graph = dm.Graph('main_nodemap.txt')\n",
    "    path,distance = graph.shortest_path(start,end)\n",
    "    #calculate time based on whether you start in fast or slow day\n",
    "    delta=12*distance/speed\n",
    "    print(delta)\n",
    "    end_time = sdatetime+timedelta(hours=delta)\n",
    "    print('end time is: ',str(end_time))\n",
    "    print(list(path))\n",
    "    return path,end_time\n",
    "    \n",
    "    \n",
    "p,e = sl_movement(10,'N69','R69')"
   ]
  },
  {
   "cell_type": "code",
   "execution_count": 2,
   "metadata": {},
   "outputs": [
    {
     "name": "stdout",
     "output_type": "stream",
     "text": [
      "48.0\n",
      "end time is:  2023-06-15 23:14:41.766029\n",
      "['R69', 'R66', 'R59', 'R54', 'R55', 'R49', 'Highgarden', 'R46', 'NewBarrel', 'R39', 'R29', 'Bitterbridge', 'R31', 'R32', 'R23', 'C26', 'C24', 'RL45', 'Briarwhite', 'RL40', 'Harrenhal', 'LHT', 'RL30', 'RL24', 'RL19', 'RL13', 'RL10', 'RL8', 'TheTwins', 'HagsMire', 'N74', 'N71', 'N69']\n"
     ]
    }
   ],
   "source": [
    "p,e = sl_movement(10,'R69','N69')"
   ]
  },
  {
   "cell_type": "code",
   "execution_count": 3,
   "metadata": {},
   "outputs": [
    {
     "name": "stdout",
     "output_type": "stream",
     "text": [
      "Land Movement Calculater, v1.0 Sparte\n"
     ]
    },
    {
     "name": "stdin",
     "output_type": "stream",
     "text": [
      "Enter movement speed of the party  10\n"
     ]
    },
    {
     "name": "stdout",
     "output_type": "stream",
     "text": [
      "When inputting remove apostrophes and spaces.\n",
      "I.E. Wayfarer's Rest becomes WayfarersRest\n"
     ]
    },
    {
     "name": "stdin",
     "output_type": "stream",
     "text": [
      "Enter starting province  StormsEnd\n",
      "Enter ending province  GreywaterWatch\n",
      "Enter time in DD/MM/YY HH:MM:SS format or enter 'now' to use current time  now\n"
     ]
    },
    {
     "name": "stdout",
     "output_type": "stream",
     "text": [
      "------------------------------------------------------------------\n",
      "Total hours of travel is  inf\n"
     ]
    },
    {
     "ename": "OverflowError",
     "evalue": "cannot convert float infinity to integer",
     "output_type": "error",
     "traceback": [
      "\u001b[0;31m---------------------------------------------------------------------------\u001b[0m",
      "\u001b[0;31mOverflowError\u001b[0m                             Traceback (most recent call last)",
      "\u001b[0;32m/tmp/ipykernel_475/2701468059.py\u001b[0m in \u001b[0;36m<module>\u001b[0;34m\u001b[0m\n\u001b[1;32m      1\u001b[0m \u001b[0;32mfrom\u001b[0m \u001b[0mland_frontend\u001b[0m \u001b[0;32mimport\u001b[0m \u001b[0mland_frontend\u001b[0m\u001b[0;34m\u001b[0m\u001b[0;34m\u001b[0m\u001b[0m\n\u001b[0;32m----> 2\u001b[0;31m \u001b[0mland_frontend\u001b[0m\u001b[0;34m(\u001b[0m\u001b[0;34m)\u001b[0m\u001b[0;34m\u001b[0m\u001b[0;34m\u001b[0m\u001b[0m\n\u001b[0m",
      "\u001b[0;32m~/move_automation/land_frontend.py\u001b[0m in \u001b[0;36mland_frontend\u001b[0;34m()\u001b[0m\n\u001b[1;32m     66\u001b[0m         \u001b[0mtime\u001b[0m \u001b[0;34m=\u001b[0m \u001b[0mstr\u001b[0m\u001b[0;34m(\u001b[0m\u001b[0minput\u001b[0m\u001b[0;34m(\u001b[0m\u001b[0;34m'Enter time in DD/MM/YY HH:MM:SS format or enter \\'now\\' to use current time '\u001b[0m\u001b[0;34m)\u001b[0m\u001b[0;34m)\u001b[0m\u001b[0;34m\u001b[0m\u001b[0;34m\u001b[0m\u001b[0m\n\u001b[1;32m     67\u001b[0m         \u001b[0mprint\u001b[0m\u001b[0;34m(\u001b[0m\u001b[0;34m'------------------------------------------------------------------'\u001b[0m\u001b[0;34m)\u001b[0m\u001b[0;34m\u001b[0m\u001b[0;34m\u001b[0m\u001b[0m\n\u001b[0;32m---> 68\u001b[0;31m         \u001b[0mp\u001b[0m\u001b[0;34m,\u001b[0m\u001b[0me\u001b[0m\u001b[0;34m,\u001b[0m\u001b[0mdlta\u001b[0m \u001b[0;34m=\u001b[0m \u001b[0mmovement\u001b[0m\u001b[0;34m(\u001b[0m\u001b[0mspd\u001b[0m\u001b[0;34m,\u001b[0m\u001b[0mstrt\u001b[0m\u001b[0;34m,\u001b[0m\u001b[0mend\u001b[0m\u001b[0;34m,\u001b[0m\u001b[0mtime\u001b[0m\u001b[0;34m)\u001b[0m\u001b[0;34m\u001b[0m\u001b[0;34m\u001b[0m\u001b[0m\n\u001b[0m\u001b[1;32m     69\u001b[0m         \u001b[0mprint\u001b[0m\u001b[0;34m(\u001b[0m\u001b[0;34m'------------------------------------------------------------------'\u001b[0m\u001b[0;34m)\u001b[0m\u001b[0;34m\u001b[0m\u001b[0;34m\u001b[0m\u001b[0m\n\u001b[1;32m     70\u001b[0m         \u001b[0mcont\u001b[0m \u001b[0;34m=\u001b[0m \u001b[0mstr\u001b[0m\u001b[0;34m(\u001b[0m\u001b[0minput\u001b[0m\u001b[0;34m(\u001b[0m\u001b[0;34m'Calculate another move order? y/n '\u001b[0m\u001b[0;34m)\u001b[0m\u001b[0;34m)\u001b[0m\u001b[0;34m\u001b[0m\u001b[0;34m\u001b[0m\u001b[0m\n",
      "\u001b[0;32m~/move_automation/land_frontend.py\u001b[0m in \u001b[0;36mmovement\u001b[0;34m(speed, start, end, sdatetime)\u001b[0m\n\u001b[1;32m     23\u001b[0m     \u001b[0mdelta\u001b[0m\u001b[0;34m=\u001b[0m\u001b[0;36m12\u001b[0m\u001b[0;34m*\u001b[0m\u001b[0mdistance\u001b[0m\u001b[0;34m/\u001b[0m\u001b[0mspeed\u001b[0m\u001b[0;34m\u001b[0m\u001b[0;34m\u001b[0m\u001b[0m\n\u001b[1;32m     24\u001b[0m     \u001b[0mprint\u001b[0m\u001b[0;34m(\u001b[0m\u001b[0;34m'Total hours of travel is '\u001b[0m\u001b[0;34m,\u001b[0m\u001b[0mdelta\u001b[0m\u001b[0;34m)\u001b[0m\u001b[0;34m\u001b[0m\u001b[0;34m\u001b[0m\u001b[0m\n\u001b[0;32m---> 25\u001b[0;31m     \u001b[0mend_time\u001b[0m \u001b[0;34m=\u001b[0m \u001b[0msdatetime\u001b[0m\u001b[0;34m+\u001b[0m\u001b[0mtimedelta\u001b[0m\u001b[0;34m(\u001b[0m\u001b[0mhours\u001b[0m\u001b[0;34m=\u001b[0m\u001b[0mdelta\u001b[0m\u001b[0;34m)\u001b[0m\u001b[0;34m\u001b[0m\u001b[0;34m\u001b[0m\u001b[0m\n\u001b[0m\u001b[1;32m     26\u001b[0m     \u001b[0mprint\u001b[0m\u001b[0;34m(\u001b[0m\u001b[0;34m'end time is: '\u001b[0m\u001b[0;34m,\u001b[0m\u001b[0mstr\u001b[0m\u001b[0;34m(\u001b[0m\u001b[0mend_time\u001b[0m\u001b[0;34m)\u001b[0m\u001b[0;34m)\u001b[0m\u001b[0;34m\u001b[0m\u001b[0;34m\u001b[0m\u001b[0m\n\u001b[1;32m     27\u001b[0m     \u001b[0mprint\u001b[0m\u001b[0;34m(\u001b[0m\u001b[0mpath\u001b[0m\u001b[0;34m)\u001b[0m\u001b[0;34m\u001b[0m\u001b[0;34m\u001b[0m\u001b[0m\n",
      "\u001b[0;31mOverflowError\u001b[0m: cannot convert float infinity to integer"
     ]
    }
   ],
   "source": [
    "from land_frontend import land_frontend\n",
    "land_frontend()"
   ]
  },
  {
   "cell_type": "code",
   "execution_count": null,
   "metadata": {},
   "outputs": [],
   "source": [
    "def path_cost(path):\n",
    "    for i in (len(path)-1):\n",
    "        "
   ]
  }
 ],
 "metadata": {
  "kernelspec": {
   "display_name": "Python 3 (ipykernel)",
   "language": "python",
   "name": "python3"
  },
  "language_info": {
   "codemirror_mode": {
    "name": "ipython",
    "version": 3
   },
   "file_extension": ".py",
   "mimetype": "text/x-python",
   "name": "python",
   "nbconvert_exporter": "python",
   "pygments_lexer": "ipython3",
   "version": "3.8.10"
  }
 },
 "nbformat": 4,
 "nbformat_minor": 4
}
