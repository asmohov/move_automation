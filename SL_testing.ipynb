{
 "cells": [
  {
   "cell_type": "code",
   "execution_count": 22,
   "metadata": {},
   "outputs": [
    {
     "name": "stdout",
     "output_type": "stream",
     "text": [
      "52.8\n",
      "end time is:  2023-06-14 06:38:31.985167\n",
      "deque(['HarvestHall', 'S20', 'S25', 'S30', 'S31', 'RainHouse'])\n"
     ]
    }
   ],
   "source": [
    "import dijkstra_methods as dm\n",
    "from datetime import datetime\n",
    "from datetime import timedelta\n",
    "import time\n",
    "\n",
    "def sl_movement(speed,start,end,sdatetime=datetime.now()):\n",
    "    #give move speed as if a fast day \n",
    "    #time formatted as 'HH:MM:SS'\n",
    "    #hardcode map in\n",
    "    graph = dm.Graph('stormlands_node_map.txt')\n",
    "    path,distance = graph.shortest_path(start,end)\n",
    "    #calculate time based on whether you start in fast or slow day\n",
    "    delta=24*distance/speed\n",
    "    print(delta)\n",
    "    end_time = sdatetime+timedelta(hours=delta)\n",
    "    print('end time is: ',str(end_time))\n",
    "    print(path)\n",
    "\n",
    "    \n",
    "    \n",
    "sl_movement(10,'HarvestHall','RainHouse')"
   ]
  },
  {
   "cell_type": "code",
   "execution_count": 21,
   "metadata": {},
   "outputs": [
    {
     "name": "stdout",
     "output_type": "stream",
     "text": [
      "0.5\n",
      "end time is:  2023-06-12 02:20:01.555705\n",
      "deque(['HaystackHall', 'S8', 'S12', 'StormsEnd'])\n"
     ]
    }
   ],
   "source": [
    "sl_movement(10,'HaystackHall','StormsEnd',sdatetime=datetime.now())"
   ]
  }
 ],
 "metadata": {
  "kernelspec": {
   "display_name": "Python 3",
   "language": "python",
   "name": "python3"
  },
  "language_info": {
   "codemirror_mode": {
    "name": "ipython",
    "version": 3
   },
   "file_extension": ".py",
   "mimetype": "text/x-python",
   "name": "python",
   "nbconvert_exporter": "python",
   "pygments_lexer": "ipython3",
   "version": "3.8.10"
  }
 },
 "nbformat": 4,
 "nbformat_minor": 4
}
