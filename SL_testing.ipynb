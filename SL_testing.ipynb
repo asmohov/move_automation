{
 "cells": [
  {
   "cell_type": "code",
   "execution_count": 1,
   "metadata": {},
   "outputs": [
    {
     "name": "stdout",
     "output_type": "stream",
     "text": [
      "48.0\n",
      "end time is:  2023-06-15 23:14:38.382092\n",
      "['N69', 'N71', 'N74', 'HagsMire', 'TheTwins', 'RL8', 'RL10', 'RL13', 'RL19', 'RL24', 'RL30', 'LHT', 'Harrenhal', 'RL40', 'SowsHorn', 'C10', 'C13', 'KingsLanding', 'C14', 'C26', 'R23', 'R32', 'R31', 'Bitterbridge', 'R29', 'R39', 'NewBarrel', 'R46', 'Highgarden', 'R49', 'R55', 'R54', 'R59', 'Honeyholt', 'R65', 'R69']\n"
     ]
    }
   ],
   "source": [
    "import dijkstra_methods as dm\n",
    "from datetime import datetime\n",
    "from datetime import timedelta\n",
    "import time\n",
    "\n",
    "def sl_movement(speed,start,end,sdatetime=\"now\"):\n",
    "    #give move speed as if a fast day \n",
    "    #default to current time\n",
    "    if sdatetime == 'now':\n",
    "        sdatetime=datetime.now()\n",
    "    #time formatted as 'MM/DD/YYYY HH:MM:SS'\n",
    "    #hardcode map in\n",
    "    graph = dm.Graph('main_nodemap.txt')\n",
    "    path,distance = graph.shortest_path(start,end)\n",
    "    #calculate time based on whether you start in fast or slow day\n",
    "    delta=12*distance/speed\n",
    "    print(delta)\n",
    "    end_time = sdatetime+timedelta(hours=delta)\n",
    "    print('end time is: ',str(end_time))\n",
    "    print(list(path))\n",
    "    return path,end_time\n",
    "    \n",
    "    \n",
    "p,e = sl_movement(10,'N69','R69')"
   ]
  },
  {
   "cell_type": "code",
   "execution_count": 6,
   "metadata": {},
   "outputs": [
    {
     "name": "stdout",
     "output_type": "stream",
     "text": [
      "Total hours of travel is  86.4\n",
      "end time is:  2023-06-19 08:35\n",
      "['KingsLanding', 'C14', 'C26', 'R23', 'R32', 'R31', 'Bitterbridge', 'R29', 'R39', 'NewBarrel', 'R46', 'Highgarden', 'R49', 'R55', 'R54', 'R59', 'Honeyholt', 'R65', 'Oldtown']\n"
     ]
    }
   ],
   "source": [
    "from land_frontend import movement\n",
    "p,e,t = movement(10,'KingsLanding','Oldtown')"
   ]
  },
  {
   "cell_type": "code",
   "execution_count": 1,
   "metadata": {},
   "outputs": [
    {
     "name": "stdout",
     "output_type": "stream",
     "text": [
      "Naval Movement Calculater, v1.1 Syracuse\n"
     ]
    },
    {
     "name": "stdin",
     "output_type": "stream",
     "text": [
      "Enter movement speed of the party or 'lorecog' : lorecog\n"
     ]
    },
    {
     "name": "stdout",
     "output_type": "stream",
     "text": [
      "When inputting remove apostrophes and spaces.\n",
      "I.E. Wayfarer's Rest becomes WayfarersRest\n"
     ]
    },
    {
     "name": "stdin",
     "output_type": "stream",
     "text": [
      "Enter starting province  CS35\n",
      "Enter ending province  CS63\n",
      "Use Open Water? y/n  n\n",
      "Use optimal Route? y/n  n\n",
      "Input provinces to avoid as a comma separated list      CS50\n",
      "Enter time in DD/MM/YY HH:MM:SS format or enter 'now' to use current time  now\n"
     ]
    },
    {
     "name": "stdout",
     "output_type": "stream",
     "text": [
      "------------------------------------------------------------------\n",
      "Total hours of travel is  24043.2\n",
      "end time is:  2026-03-16 19:10\n",
      "['CS35', 'OS8', 'CS43', 'CS47', 'CS54', 'CS55', 'CS60', 'CS61', 'CS62', 'CS64', 'CS63']\n",
      "Open Water provinces travelled:  1\n",
      "------------------------------------------------------------------\n"
     ]
    },
    {
     "name": "stdin",
     "output_type": "stream",
     "text": [
      "Calculate another move order? y/n  n\n"
     ]
    },
    {
     "name": "stdout",
     "output_type": "stream",
     "text": [
      "Exiting Program\n"
     ]
    }
   ],
   "source": [
    "from naval_frontend import naval_frontend\n",
    "naval_frontend()"
   ]
  },
  {
   "cell_type": "code",
   "execution_count": 3,
   "metadata": {},
   "outputs": [
    {
     "ename": "FileNotFoundError",
     "evalue": "[Errno 2] No such file or directory: '9PKMapJune142023V2_copy.png'",
     "output_type": "error",
     "traceback": [
      "\u001b[0;31m---------------------------------------------------------------------------\u001b[0m",
      "\u001b[0;31mFileNotFoundError\u001b[0m                         Traceback (most recent call last)",
      "\u001b[0;32m/tmp/ipykernel_9108/3335118222.py\u001b[0m in \u001b[0;36m<module>\u001b[0;34m\u001b[0m\n\u001b[1;32m      6\u001b[0m \u001b[0;34m\u001b[0m\u001b[0m\n\u001b[1;32m      7\u001b[0m \u001b[0;31m#pytesseract.pytesseract.tesseract_cmd = 'C:/Programs/Tesseract-OCR/tesseract.exe'\u001b[0m\u001b[0;34m\u001b[0m\u001b[0;34m\u001b[0m\u001b[0;34m\u001b[0m\u001b[0m\n\u001b[0;32m----> 8\u001b[0;31m \u001b[0mimg\u001b[0m \u001b[0;34m=\u001b[0m \u001b[0mImage\u001b[0m\u001b[0;34m.\u001b[0m\u001b[0mopen\u001b[0m\u001b[0;34m(\u001b[0m\u001b[0;34m\"9PKMapJune142023V2_copy.png\"\u001b[0m\u001b[0;34m)\u001b[0m\u001b[0;34m\u001b[0m\u001b[0;34m\u001b[0m\u001b[0m\n\u001b[0m\u001b[1;32m      9\u001b[0m \u001b[0mdata\u001b[0m \u001b[0;34m=\u001b[0m \u001b[0mpytesseract\u001b[0m\u001b[0;34m.\u001b[0m\u001b[0mimage_to_data\u001b[0m\u001b[0;34m(\u001b[0m\u001b[0mimg\u001b[0m\u001b[0;34m,\u001b[0m \u001b[0moutput_type\u001b[0m\u001b[0;34m=\u001b[0m\u001b[0;34m'dict'\u001b[0m\u001b[0;34m)\u001b[0m\u001b[0;34m\u001b[0m\u001b[0;34m\u001b[0m\u001b[0m\n\u001b[1;32m     10\u001b[0m \u001b[0mboxes\u001b[0m \u001b[0;34m=\u001b[0m \u001b[0mlen\u001b[0m\u001b[0;34m(\u001b[0m\u001b[0mdata\u001b[0m\u001b[0;34m[\u001b[0m\u001b[0;34m'level'\u001b[0m\u001b[0;34m]\u001b[0m\u001b[0;34m)\u001b[0m\u001b[0;34m\u001b[0m\u001b[0;34m\u001b[0m\u001b[0m\n",
      "\u001b[0;32m~/.local/lib/python3.8/site-packages/PIL/Image.py\u001b[0m in \u001b[0;36mopen\u001b[0;34m(fp, mode, formats)\u001b[0m\n\u001b[1;32m   2966\u001b[0m \u001b[0;34m\u001b[0m\u001b[0m\n\u001b[1;32m   2967\u001b[0m     \u001b[0;32mif\u001b[0m \u001b[0mfilename\u001b[0m\u001b[0;34m:\u001b[0m\u001b[0;34m\u001b[0m\u001b[0;34m\u001b[0m\u001b[0m\n\u001b[0;32m-> 2968\u001b[0;31m         \u001b[0mfp\u001b[0m \u001b[0;34m=\u001b[0m \u001b[0mbuiltins\u001b[0m\u001b[0;34m.\u001b[0m\u001b[0mopen\u001b[0m\u001b[0;34m(\u001b[0m\u001b[0mfilename\u001b[0m\u001b[0;34m,\u001b[0m \u001b[0;34m\"rb\"\u001b[0m\u001b[0;34m)\u001b[0m\u001b[0;34m\u001b[0m\u001b[0;34m\u001b[0m\u001b[0m\n\u001b[0m\u001b[1;32m   2969\u001b[0m         \u001b[0mexclusive_fp\u001b[0m \u001b[0;34m=\u001b[0m \u001b[0;32mTrue\u001b[0m\u001b[0;34m\u001b[0m\u001b[0;34m\u001b[0m\u001b[0m\n\u001b[1;32m   2970\u001b[0m \u001b[0;34m\u001b[0m\u001b[0m\n",
      "\u001b[0;31mFileNotFoundError\u001b[0m: [Errno 2] No such file or directory: '9PKMapJune142023V2_copy.png'"
     ]
    }
   ],
   "source": [
    "import pytesseract\n",
    "from PIL import Image\n",
    "import sys\n",
    "sys.path.append('C:/Programs/Tesseract-OCR/tesseract.exe')\n",
    "#print(sys.path)\n",
    "\n",
    "#pytesseract.pytesseract.tesseract_cmd = 'C:/Programs/Tesseract-OCR/tesseract.exe'\n",
    "img = Image.open(\"9PKMapJune142023V2_copy.png\")\n",
    "data = pytesseract.image_to_data(img, output_type='dict')\n",
    "boxes = len(data['level'])\n",
    "\n",
    "for i in range(boxes):\n",
    "    if len(data['text'][i])>2:\n",
    "        print(data['text'][i])\n",
    "        #\n",
    "#C:\\\\Programs_86\\\\Tesseract-OCR\\\\tesseract.exe'     \n",
    "#C:\\\\Programs_86\\\\Tesseract-OCR\\\\tesseract.exe is not installed or it's not in your PATH. See README file for more information."
   ]
  }
 ],
 "metadata": {
  "kernelspec": {
   "display_name": "Python 3 (ipykernel)",
   "language": "python",
   "name": "python3"
  },
  "language_info": {
   "codemirror_mode": {
    "name": "ipython",
    "version": 3
   },
   "file_extension": ".py",
   "mimetype": "text/x-python",
   "name": "python",
   "nbconvert_exporter": "python",
   "pygments_lexer": "ipython3",
   "version": "3.8.10"
  }
 },
 "nbformat": 4,
 "nbformat_minor": 4
}
