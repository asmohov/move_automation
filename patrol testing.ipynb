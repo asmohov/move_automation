{
 "cells": [
  {
   "cell_type": "code",
   "execution_count": 5,
   "metadata": {},
   "outputs": [
    {
     "name": "stdout",
     "output_type": "stream",
     "text": [
      "Total hours of travel is  15.6\n",
      "end time is:  2023-06-14 15:14:49.824596\n",
      "deque(['CasterlyRock', 'W15', 'W20', 'W21', 'DeepDen', 'W22', 'Riverspring', 'R7', 'R8', 'R9', 'C25', 'C26', 'C14', 'KingsLanding'])\n",
      "checking for patrols--------------------------------------------------------\n",
      "patrol tripped at  CasterlyRock  after  0.0  hours, at  2023-06-13 23:38:49.824593\n",
      "patrol tripped at  DeepDen  after  4.8  hours, at  2023-06-14 04:26:49.824593\n",
      "patrol tripped at  Riverspring  after  7.2  hours, at  2023-06-14 06:50:49.824593\n",
      "patrol tripped at  KingsLanding  after  15.6  hours, at  2023-06-14 15:14:49.824593\n"
     ]
    }
   ],
   "source": [
    "from land_frontend import movement\n",
    "from land_frontend import clean_movement\n",
    "import dijkstra_methods as dk\n",
    "from datetime import datetime\n",
    "from datetime import timedelta\n",
    "import time\n",
    "\n",
    "#helping method to determine if a patrol is hit\n",
    "def isin(pattern, seq):\n",
    "    for i in range(len(seq) - len(pattern) + 1):\n",
    "        if seq[i:i+len(pattern)] == pattern:\n",
    "            return True\n",
    "    return False\n",
    "#helping method for determining if a province has a holdfast\n",
    "def has_numbers(inputString):\n",
    "    return any(char.isdigit() for char in inputString)\n",
    "\n",
    "\n",
    "def patrol_sweep(speed,start,end,sdatetime='now'):\n",
    "    #initialise possible patrol list\n",
    "    patrol_list = []\n",
    "    #read patrol database\n",
    "    filename = './sample_patrols.txt'\n",
    "    with open(filename) as fhandle:\n",
    "        for line in fhandle:\n",
    "            #print(line)\n",
    "            p1,p2,desc = line.split('/')\n",
    "            patrol_list.append([p1,p2,desc])\n",
    "#print(patrol_list)\n",
    "    #set datetime\n",
    "    if sdatetime=='now':\n",
    "        sdatetime = datetime.now()\n",
    "    elif isinstance(sdatetime,datetime):\n",
    "        pass\n",
    "    else:\n",
    "        sdatetime = datetime.strptime(sdatetime,'%d/%m/%y %H:%M:%S')\n",
    "    path,time,dlta = movement(speed,start,end)\n",
    "    print('checking for patrols--------------------------------------------------------')\n",
    "    for patrol in patrol_list:\n",
    "        desc = patrol[2]\n",
    "        coordinates = patrol[0:2]\n",
    "        #cut one tile patrols to the appropriate length\n",
    "        if coordinates[1]=='0':\n",
    "            coordinates=[coordinates[0]]\n",
    "        #catch forward patrols\n",
    "        if isin(coordinates,list(path)): \n",
    "            #calculate time delta and end time for a tripped patrol\n",
    "            pth,endtime,dlta = clean_movement(speed,start,str(coordinates[-1]),sdatetime)\n",
    "            print('patrol tripped at ',coordinates,' after ',str(dlta),' hours, at ',endtime)\n",
    "            print(desc)\n",
    "        #catch reverse patrols\n",
    "        elif isin(coordinates[::-1],list(path)):\n",
    "            #calculate time delta and end time for a tripped patrol\n",
    "            pth,endtime,dlta = clean_movement(speed,start,str(coordinates[-1]),sdatetime)\n",
    "            print('patrol tripped at ',coordinates,' after ',str(dlta),' hours, at ',endtime)\n",
    "            print(desc)\n",
    "    #holdfast detections\n",
    "    for province in list(path):\n",
    "        if not has_numbers(province):\n",
    "            desc= 'Holdfast detection at '+province\n",
    "            pth,endtime,dlta = clean_movement(speed,start,province,sdatetime)\n",
    "            print('patrol tripped at ',province,' after ',str(dlta),' hours, at ',endtime)\n",
    "            \n",
    "patrol_sweep(10,'CasterlyRock','KingsLanding')"
   ]
  }
 ],
 "metadata": {
  "kernelspec": {
   "display_name": "Python 3 (ipykernel)",
   "language": "python",
   "name": "python3"
  },
  "language_info": {
   "codemirror_mode": {
    "name": "ipython",
    "version": 3
   },
   "file_extension": ".py",
   "mimetype": "text/x-python",
   "name": "python",
   "nbconvert_exporter": "python",
   "pygments_lexer": "ipython3",
   "version": "3.8.10"
  }
 },
 "nbformat": 4,
 "nbformat_minor": 4
}
